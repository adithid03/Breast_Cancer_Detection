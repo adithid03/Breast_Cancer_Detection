{
 "cells": [
  {
   "cell_type": "markdown",
   "id": "5418f6a5-22f5-413f-8ea8-7c6791de18c9",
   "metadata": {},
   "source": [
    "# BREAST CANCER DETECTION USING ADABOOST"
   ]
  },
  {
   "cell_type": "markdown",
   "id": "473a06e2-f1ab-4b05-8179-a07103dc05ef",
   "metadata": {},
   "source": [
    "## Import necessary libraries"
   ]
  },
  {
   "cell_type": "code",
   "execution_count": null,
   "id": "761c3ace-3e2e-45a1-b30d-ad69ddac7aa8",
   "metadata": {},
   "outputs": [],
   "source": [
    "# Import necessary libraries\n",
    "import pandas as pd\n",
    "import numpy as np\n",
    "from sklearn.preprocessing import StandardScaler\n",
    "from sklearn.ensemble import AdaBoostClassifier\n",
    "from sklearn.tree import DecisionTreeClassifier\n",
    "from sklearn.model_selection import train_test_split\n",
    "from sklearn.metrics import accuracy_score, precision_score, recall_score, confusion_matrix, f1_score\n",
    "import seaborn as sns\n",
    "import matplotlib.pyplot as plt"
   ]
  },
  {
   "cell_type": "markdown",
   "id": "ebe4484f-02af-44d3-9e7e-0877061a2246",
   "metadata": {},
   "source": [
    "## Load the dataset"
   ]
  },
  {
   "cell_type": "code",
   "execution_count": null,
   "id": "acdaa8a3-e1de-4151-bbe5-f2999089af86",
   "metadata": {},
   "outputs": [],
   "source": [
    "url=\"https://archive.ics.uci.edu/ml/machine-learning-databases/breast-cancer-wisconsin/wdbc.data\"\n",
    "columns=['ID','Diagnosis']+[f'Feature_{i}' for i in range(1,31)]\n",
    "data=pd.read_csv(url,header=None,names=columns)\n",
    "\n",
    "data"
   ]
  },
  {
   "cell_type": "markdown",
   "id": "e180e459-2fd8-4c21-a97f-e4c73ddecf3e",
   "metadata": {},
   "source": [
    "## Display the first 5 and last 5 rows, shape, and basic info of the dataset"
   ]
  },
  {
   "cell_type": "code",
   "execution_count": null,
   "id": "fe5cc0bd-9280-4ba8-b82d-4620b1cb5ca1",
   "metadata": {},
   "outputs": [],
   "source": [
    "data.head()"
   ]
  },
  {
   "cell_type": "code",
   "execution_count": null,
   "id": "adcb3d88-ce46-4bf7-89b3-581bb52ca502",
   "metadata": {},
   "outputs": [],
   "source": [
    " data.tail() "
   ]
  },
  {
   "cell_type": "code",
   "execution_count": null,
   "id": "9d21d857-e2b1-498d-be0c-afa98e8abfed",
   "metadata": {},
   "outputs": [],
   "source": [
    " {data.shape}"
   ]
  },
  {
   "cell_type": "code",
   "execution_count": null,
   "id": "049d355f-7bbb-4114-b8a5-e4c7b7c71134",
   "metadata": {},
   "outputs": [],
   "source": [
    "data.info() "
   ]
  },
  {
   "cell_type": "code",
   "execution_count": null,
   "id": "f169be99-246d-4b07-b8bd-a815d10d746a",
   "metadata": {},
   "outputs": [],
   "source": [
    "data.describe()"
   ]
  },
  {
   "cell_type": "code",
   "execution_count": null,
   "id": "045b0396-ec96-4c34-84dc-06e2f96f6cb5",
   "metadata": {},
   "outputs": [],
   "source": [
    "data.describe().T"
   ]
  },
  {
   "cell_type": "markdown",
   "id": "a3d72dae-5bfa-4320-aef7-ddc6675b3477",
   "metadata": {},
   "source": [
    "## Check for duplicate rows"
   ]
  },
  {
   "cell_type": "code",
   "execution_count": null,
   "id": "dc2ddb39-31c3-4cf4-9012-b65d6c7d1943",
   "metadata": {},
   "outputs": [],
   "source": [
    "# Check for duplicate rows\n",
    "num_total_rows = len(data) \n",
    "num_duplicate_rows = data.duplicated().sum() \n",
    "percentage_duplicates = (num_duplicate_rows / num_total_rows) * 100 \n",
    "print(f\"Number of Rows with Duplicates: {num_duplicate_rows}\") \n",
    "print(f\"Percentage of Duplicate Rows: {percentage_duplicates:.2f}%\")"
   ]
  },
  {
   "cell_type": "markdown",
   "id": "c77751bd-106d-4f7f-8dc6-d83bd84d1231",
   "metadata": {},
   "source": [
    "## Count unique values for each column"
   ]
  },
  {
   "cell_type": "code",
   "execution_count": null,
   "id": "ebd9818a-387d-4de2-8e8b-ca57b78fa12b",
   "metadata": {},
   "outputs": [],
   "source": [
    "# Count unique values for each column \n",
    "unique_counts = data.nunique()\n",
    "# Display the unique counts \n",
    "print(unique_counts)"
   ]
  },
  {
   "cell_type": "markdown",
   "id": "824126b7-0b11-41f3-8909-c183db925df8",
   "metadata": {},
   "source": [
    "## Drop non-numeric columns (e.g., 'id')"
   ]
  },
  {
   "cell_type": "code",
   "execution_count": null,
   "id": "f1849f64-1c8d-491e-ab42-f6231336b44c",
   "metadata": {},
   "outputs": [],
   "source": [
    "data.drop('ID', axis=1, inplace=True)\n",
    "print(data.columns)"
   ]
  },
  {
   "cell_type": "markdown",
   "id": "7678897e-4c97-41e7-9310-b6d8357b9dd7",
   "metadata": {},
   "source": [
    "## Check for Missing Values"
   ]
  },
  {
   "cell_type": "code",
   "execution_count": null,
   "id": "ad791316-6385-43f2-bddb-ca86879b5482",
   "metadata": {},
   "outputs": [],
   "source": [
    "# Check for Missing Values\n",
    "print(\"Missing values in each column:\\n\", data.isnull().sum())"
   ]
  },
  {
   "cell_type": "markdown",
   "id": "b7049348-30a0-4b80-bc0e-c8419a182be9",
   "metadata": {},
   "source": [
    "## Handle Missing Values: Filling missing values only in numeric columns"
   ]
  },
  {
   "cell_type": "code",
   "execution_count": null,
   "id": "91c4149d-5876-4ecf-9c9e-84d5826794b9",
   "metadata": {},
   "outputs": [],
   "source": [
    "# Handle Missing Values: Filling missing values with the mean for numeric columns only\n",
    "numeric_cols = data.select_dtypes(include=[np.number]).columns  # Select numeric columns\n",
    "data[numeric_cols] = data[numeric_cols].fillna(data[numeric_cols].mean())"
   ]
  },
  {
   "cell_type": "markdown",
   "id": "4b876445-f3a5-4b46-a4c1-f8960d0db743",
   "metadata": {},
   "source": [
    "## Visualize the count of Benign vs Malignant cases before splitting, outlier removal and scaling"
   ]
  },
  {
   "cell_type": "code",
   "execution_count": null,
   "id": "fb564ca4-e5c0-42be-a6c9-f28452ac57cd",
   "metadata": {},
   "outputs": [],
   "source": [
    "plt.figure(figsize=(8, 6))\n",
    "sns.countplot(x='Diagnosis', data=data)\n",
    "plt.title('Count of Benign and Malignant Cases')\n",
    "plt.xlabel('Diagnosis (0: Benign, 1: Malignant)')\n",
    "plt.ylabel('Count')\n",
    "plt.xticks(ticks=[0, 1], labels=['Benign', 'Malignant'])  # Set x-tick labels\n",
    "plt.show()"
   ]
  },
  {
   "cell_type": "markdown",
   "id": "952ce3d6-13b0-42ac-98f9-cf30e3785799",
   "metadata": {},
   "source": [
    "Encode Labels: Encoding 'diagnosis' column (1 for Malignant, 0 for Benign)"
   ]
  },
  {
   "cell_type": "markdown",
   "id": "64c4f8ea-e8be-4090-b7e8-a838512d2c2a",
   "metadata": {},
   "source": [
    "## Splitting Data"
   ]
  },
  {
   "cell_type": "code",
   "execution_count": null,
   "id": "86048087-18bf-4f2f-ad65-0af9e757df72",
   "metadata": {},
   "outputs": [],
   "source": [
    "X = data.drop('Diagnosis', axis=1)  # Features\n",
    "y = data['Diagnosis']  # Target variable\n",
    "\n",
    "# Splitting the data into training and testing sets (80% train, 20% test)\n",
    "X_train, X_test, y_train, y_test = train_test_split(X, y, test_size=0.2, random_state=42)\n",
    "\n",
    "# Checking the shape of the splits\n",
    "print(f\"Training features shape: {X_train.shape}\")\n",
    "print(f\"Testing features shape: {X_test.shape}\")\n",
    "print(f\"Training labels shape: {y_train.shape}\")\n",
    "print(f\"Testing labels shape: {y_test.shape}\")"
   ]
  },
  {
   "cell_type": "markdown",
   "id": "882dede8-44e7-4929-8b4e-9345d77d4dd7",
   "metadata": {},
   "source": [
    "## Outlier Detection: Using IQR"
   ]
  },
  {
   "cell_type": "code",
   "execution_count": null,
   "id": "a7f046ea-058a-4d7a-a0d8-a56864aab3a4",
   "metadata": {},
   "outputs": [],
   "source": [
    "def detect_outliers_iqr(df, columns=None):\n",
    "    \"\"\"\n",
    "    Detects outliers in a dataframe using the IQR method.\n",
    "\n",
    "    Parameters:\n",
    "    - df (pd.DataFrame): The dataset to process.\n",
    "    - columns (list, optional): List of specific columns to check for outliers. \n",
    "                                If None, checks all numeric columns.\n",
    "\n",
    "    Returns:\n",
    "    - pd.DataFrame: Rows from the dataframe that are identified as outliers.\n",
    "    \"\"\"\n",
    "    outliers = pd.DataFrame()\n",
    "    \n",
    "    # If no specific columns are provided, select all numeric columns\n",
    "    if columns is None:\n",
    "        columns = df.select_dtypes(include=[np.number]).columns\n",
    "\n",
    "    for column in columns:\n",
    "        Q1 = df[column].quantile(0.25)\n",
    "        Q3 = df[column].quantile(0.75)\n",
    "        IQR = Q3 - Q1\n",
    "        lower_bound = Q1 - 1.5 * IQR\n",
    "        upper_bound = Q3 + 1.5 * IQR\n",
    "        # Identify outliers in the current column\n",
    "        outliers_in_column = df[(df[column] < lower_bound) | (df[column] > upper_bound)]\n",
    "        outliers = pd.concat([outliers, outliers_in_column], axis=0)\n",
    "\n",
    "    return outliers.drop_duplicates()\n",
    "\n"
   ]
  },
  {
   "cell_type": "code",
   "execution_count": null,
   "id": "fea7c7a6-6211-42b0-b7f0-675c871fd28e",
   "metadata": {},
   "outputs": [],
   "source": [
    "# Detect outliers\n",
    "outliers = detect_outliers_iqr(data, columns=X.columns)\n",
    "print(f\"Number of outliers detected: {len(outliers)}\")\n",
    "# Filter out rows identified as outliers\n",
    "outliers = outliers[outliers.index.isin(data.index)]  # Ensure indices match\n",
    "data = data.drop(outliers.index, axis=0)             # Drop outlier rows\n",
    "\n",
    "# Print the cleaned dataset\n",
    "print(f\"Number of rows after removing outliers: {data.shape[0]}\")\n"
   ]
  },
  {
   "cell_type": "code",
   "execution_count": null,
   "id": "762aa7f1-502e-48a8-951f-16166b438d8c",
   "metadata": {},
   "outputs": [],
   "source": [
    "print(data)"
   ]
  },
  {
   "cell_type": "markdown",
   "id": "3460d4bb-1c64-4f12-89f9-10339de01fb1",
   "metadata": {},
   "source": [
    "## Scaling Features"
   ]
  },
  {
   "cell_type": "code",
   "execution_count": null,
   "id": "513ba6aa-4bc1-415e-9a43-5fe25862edf5",
   "metadata": {},
   "outputs": [],
   "source": [
    "# Scale the features\n",
    "scaler = StandardScaler()\n",
    "\n",
    "# Fit and transform the training data\n",
    "X_train_scaled = scaler.fit_transform(X_train)\n",
    "\n",
    "# Transform the test data using the fitted scaler (do not fit again on test data)\n",
    "X_test_scaled = scaler.transform(X_test)\n"
   ]
  },
  {
   "cell_type": "markdown",
   "id": "dd3451fd-8214-4f63-94c8-db974ef267d4",
   "metadata": {},
   "source": [
    "### Display the first few rows of the scaled features"
   ]
  },
  {
   "cell_type": "code",
   "execution_count": null,
   "id": "29219765-16b0-470e-8166-87e20e0a5811",
   "metadata": {},
   "outputs": [],
   "source": [
    "# Check the first few rows of the scaled data (optional)\n",
    "print(pd.DataFrame(X_train_scaled, columns=X_train.columns).head())"
   ]
  },
  {
   "cell_type": "markdown",
   "id": "ce3a5ed1-f57f-47f9-9c86-2ff7474df725",
   "metadata": {},
   "source": [
    "### Visualize the count of Benign vs Malignant cases after splitting, outlier removal and scaling"
   ]
  },
  {
   "cell_type": "code",
   "execution_count": null,
   "id": "13427571-99b4-4411-bfbb-c65ecf718e79",
   "metadata": {},
   "outputs": [],
   "source": [
    "plt.figure(figsize=(8, 6))\n",
    "sns.countplot(x='Diagnosis', data=data)\n",
    "plt.title('Count of Benign and Malignant Cases')\n",
    "plt.xlabel('Diagnosis (0: Benign, 1: Malignant)')\n",
    "plt.ylabel('Count')\n",
    "plt.xticks(ticks=[0, 1], labels=['Benign', 'Malignant'])  # Set x-tick labels\n",
    "plt.show()"
   ]
  },
  {
   "cell_type": "markdown",
   "id": "b343907d-cc0f-4ed0-b515-650aa0dc264d",
   "metadata": {},
   "source": [
    "Retrieves the 25th percentile (Q1) for each feature. Retrieves the 75th percentile (Q3) for each feature. IQR is the difference between the third quartile (Q3) and first quartile (Q1).\n"
   ]
  },
  {
   "cell_type": "markdown",
   "id": "11e2996e-3c55-4209-b18d-0a9b5b697616",
   "metadata": {},
   "source": [
    "## Smote"
   ]
  },
  {
   "cell_type": "code",
   "execution_count": null,
   "id": "172b7d97-d4ca-4389-968c-fca128d0ef48",
   "metadata": {},
   "outputs": [],
   "source": [
    "!pip install imbalanced-learn\n",
    "from imblearn.over_sampling import SMOTE"
   ]
  },
  {
   "cell_type": "code",
   "execution_count": null,
   "id": "4777311d-e977-437b-abd8-41dd23fa5b46",
   "metadata": {},
   "outputs": [],
   "source": [
    "# Apply SMOTE to the scaled training data\n",
    "smote = SMOTE(random_state=42)\n",
    "X_train_smote, y_train_smote = smote.fit_resample(X_train_scaled, y_train)\n",
    "\n",
    "# Print class distribution after SMOTE\n",
    "print(\"Class distribution after SMOTE:\")\n",
    "print(pd.Series(y_train_smote).value_counts())"
   ]
  },
  {
   "cell_type": "markdown",
   "id": "a4edbc27-fe6d-476e-bc84-1ea10b347001",
   "metadata": {},
   "source": [
    "## Implementing Adaboost Algorithm"
   ]
  },
  {
   "cell_type": "code",
   "execution_count": null,
   "id": "fada9c54-217f-4268-81ee-444ffdda71d7",
   "metadata": {},
   "outputs": [],
   "source": [
    "# Define the AdaBoost model with a DecisionTreeClassifier as the base estimator\n",
    "base_estimator = DecisionTreeClassifier(max_depth=1)\n",
    "adaboost = AdaBoostClassifier(estimator=base_estimator, n_estimators=50, random_state=42)\n"
   ]
  },
  {
   "cell_type": "markdown",
   "id": "42518935-f9b4-4c27-bb6c-dcd9a5254240",
   "metadata": {},
   "source": [
    "### Fit the AdaBoost classifier on the training data and Make predictions on the test set"
   ]
  },
  {
   "cell_type": "code",
   "execution_count": null,
   "id": "40517712-b58b-4ed7-9460-f11f375f8d3c",
   "metadata": {},
   "outputs": [],
   "source": [
    "# Train the model on the SMOTE-augmented training data\n",
    "adaboost.fit(X_train_smote, y_train_smote)"
   ]
  },
  {
   "cell_type": "code",
   "execution_count": null,
   "id": "dcf52965-4205-475d-bbd2-9457cf37596a",
   "metadata": {},
   "outputs": [],
   "source": [
    "y_pred = adaboost.predict(X_test_scaled)"
   ]
  },
  {
   "cell_type": "markdown",
   "id": "63106078-493e-45e1-87f2-5dd350f4edc0",
   "metadata": {},
   "source": [
    "## Evaluating Model Performance"
   ]
  },
  {
   "cell_type": "markdown",
   "id": "6e4e8419-21d9-41ac-8beb-482959ff4957",
   "metadata": {},
   "source": [
    "### Accuracy"
   ]
  },
  {
   "cell_type": "code",
   "execution_count": null,
   "id": "31d1e9fd-20c3-48a2-b800-5ec55d5e3e21",
   "metadata": {},
   "outputs": [],
   "source": [
    "accuracy = accuracy_score(y_test, y_pred)\n",
    "print(f\"Accuracy: {accuracy:.4f}\")"
   ]
  },
  {
   "cell_type": "markdown",
   "id": "82008105-072b-438e-a813-1e54360aaa46",
   "metadata": {},
   "source": [
    "### Precision"
   ]
  },
  {
   "cell_type": "code",
   "execution_count": null,
   "id": "03122e06-8e29-46dd-9e51-91846bb5e82b",
   "metadata": {},
   "outputs": [],
   "source": [
    "precision = precision_score(y_test, y_pred, pos_label='M')  # 'M' for malignant\n",
    "print(f\"Precision (Malignant): {precision:.4f}\")"
   ]
  },
  {
   "cell_type": "markdown",
   "id": "a67120b9-75dd-4d77-b569-f7cd081b7f51",
   "metadata": {},
   "source": [
    "### Recall"
   ]
  },
  {
   "cell_type": "code",
   "execution_count": null,
   "id": "00da6564-ea7b-4fb0-a5b3-cd5a992359f4",
   "metadata": {},
   "outputs": [],
   "source": [
    "recall = recall_score(y_test, y_pred, pos_label='M')      # 'M' for malignant\n",
    "print(f\"Recall (Malignant): {recall:.4f}\")"
   ]
  },
  {
   "cell_type": "markdown",
   "id": "04e410f0-5d85-44d6-bd1d-bce3a91d1cda",
   "metadata": {},
   "source": [
    "### F1-score"
   ]
  },
  {
   "cell_type": "code",
   "execution_count": null,
   "id": "03587b76-fbd8-47bb-b781-8efac5f4cb14",
   "metadata": {},
   "outputs": [],
   "source": [
    "f1 = f1_score(y_test, y_pred, pos_label='M')              # 'M' for malignant\n",
    "print(f\"F1 Score (Malignant): {f1:.4f}\")"
   ]
  },
  {
   "cell_type": "markdown",
   "id": "31514b76-9ea1-4a5b-a648-cf5a30a1cee5",
   "metadata": {},
   "source": [
    "### Confusion Matrix"
   ]
  },
  {
   "cell_type": "code",
   "execution_count": null,
   "id": "e044e1e9-058e-4e2d-a802-955fe7649048",
   "metadata": {},
   "outputs": [],
   "source": [
    "conf_matrix = confusion_matrix(y_test, y_pred, labels=['B', 'M'])\n",
    "print(\"Confusion Matrix:\")\n",
    "print(conf_matrix)\n"
   ]
  },
  {
   "cell_type": "markdown",
   "id": "173c634d-b92d-4c4a-8304-40233506e424",
   "metadata": {},
   "source": [
    "## Hyperparameter Tuning "
   ]
  },
  {
   "cell_type": "markdown",
   "id": "65ff4c7e-143d-4f9d-ba34-a5b3a7ab7b58",
   "metadata": {},
   "source": [
    "### Define the Hyperparameter Grid:"
   ]
  },
  {
   "cell_type": "code",
   "execution_count": null,
   "id": "269f70bc-d4ad-45b3-8a2d-f1512ee73898",
   "metadata": {},
   "outputs": [],
   "source": [
    "from sklearn.model_selection import GridSearchCV\n",
    "\n",
    "param_grid = {\n",
    "    'n_estimators': [50, 100, 150, 200],  # The number of weak learners\n",
    "    'learning_rate': [0.01, 0.1, 0.5, 1.0]  # Learning rate\n",
    "}\n"
   ]
  },
  {
   "cell_type": "markdown",
   "id": "a9a25314-a964-4e15-93a6-cfee751b0c13",
   "metadata": {},
   "source": [
    "### GridSearchCV:"
   ]
  },
  {
   "cell_type": "code",
   "execution_count": null,
   "id": "3e0114a4-dfec-486a-a1e8-750bd036e9ae",
   "metadata": {},
   "outputs": [],
   "source": [
    "# Define the AdaBoost model\n",
    "adaboost = AdaBoostClassifier(estimator=base_estimator, random_state=42)\n",
    "\n",
    "# Set up the GridSearchCV\n",
    "grid_search = GridSearchCV(estimator=adaboost, param_grid=param_grid, \n",
    "                           cv=5, n_jobs=-1, scoring='accuracy', verbose=1)\n",
    "\n",
    "# Fit the grid search\n",
    "grid_search.fit(X_train_smote, y_train_smote)\n",
    "\n",
    "# Print the best hyperparameters\n",
    "best_params = grid_search.best_params_\n",
    "print(\"Best hyperparameters found by Grid Search:\", best_params)\n"
   ]
  },
  {
   "cell_type": "markdown",
   "id": "149d7500-fded-4d8f-9ef8-49ca3557fc91",
   "metadata": {},
   "source": [
    "### Re-train the Model Using Best Hyperparameters:"
   ]
  },
  {
   "cell_type": "code",
   "execution_count": null,
   "id": "87553029-bf41-49ad-9af9-9a4b09ab5300",
   "metadata": {},
   "outputs": [],
   "source": [
    "# Re-train the AdaBoost model with the best parameters\n",
    "best_adaboost = grid_search.best_estimator_\n",
    "\n",
    "# Fit the best model on the SMOTE-augmented training data\n",
    "best_adaboost.fit(X_train_smote, y_train_smote)\n",
    "\n",
    "# Predict on the test set\n",
    "y_pred = best_adaboost.predict(X_test_scaled)\n"
   ]
  },
  {
   "cell_type": "markdown",
   "id": "95672ed8-4055-4639-b37e-8c559b22fc91",
   "metadata": {},
   "source": [
    "### Evaluate the Tuned Model:"
   ]
  },
  {
   "cell_type": "code",
   "execution_count": null,
   "id": "29aed108-6b98-4cca-9aaf-9830d3d17758",
   "metadata": {},
   "outputs": [],
   "source": [
    "from sklearn.metrics import accuracy_score, precision_score, recall_score, confusion_matrix, f1_score\n",
    "\n",
    "# Evaluate the model\n",
    "accuracy = accuracy_score(y_test, y_pred)\n",
    "precision = precision_score(y_test, y_pred, average='binary', pos_label='M')\n",
    "recall = recall_score(y_test, y_pred, average='binary', pos_label='M')\n",
    "f1 = f1_score(y_test, y_pred, average='binary', pos_label='M')\n",
    "conf_matrix = confusion_matrix(y_test, y_pred)\n",
    "\n",
    "# Print results\n",
    "print(f\"Accuracy: {accuracy:.4f}\")\n",
    "print(f\"Precision: {precision:.4f}\")\n",
    "print(f\"Recall: {recall:.4f}\")\n",
    "print(f\"F1 Score: {f1:.4f}\")\n",
    "print(\"Confusion Matrix:\")\n",
    "print(conf_matrix)\n"
   ]
  },
  {
   "cell_type": "markdown",
   "id": "5519526d-6535-4208-8f4e-90546ec17e00",
   "metadata": {},
   "source": [
    "### Plot the Confusion Matrix:"
   ]
  },
  {
   "cell_type": "code",
   "execution_count": null,
   "id": "2f1c46c0-e50c-4a0e-82cf-7275a5b724af",
   "metadata": {},
   "outputs": [],
   "source": [
    "import seaborn as sns\n",
    "import matplotlib.pyplot as plt\n",
    "\n",
    "# Plot the confusion matrix\n",
    "sns.heatmap(conf_matrix, annot=True, fmt='d', cmap='Blues', xticklabels=['B', 'M'], yticklabels=['B', 'M'])\n",
    "plt.title('Confusion Matrix')\n",
    "plt.xlabel('Predicted')\n",
    "plt.ylabel('True')\n",
    "plt.show()\n"
   ]
  },
  {
   "cell_type": "code",
   "execution_count": null,
   "id": "7dc4a561-ecb0-422e-b4d2-164a958b6544",
   "metadata": {},
   "outputs": [],
   "source": []
  }
 ],
 "metadata": {
  "kernelspec": {
   "display_name": "Python 3 (ipykernel)",
   "language": "python",
   "name": "python3"
  },
  "language_info": {
   "codemirror_mode": {
    "name": "ipython",
    "version": 3
   },
   "file_extension": ".py",
   "mimetype": "text/x-python",
   "name": "python",
   "nbconvert_exporter": "python",
   "pygments_lexer": "ipython3",
   "version": "3.12.4"
  }
 },
 "nbformat": 4,
 "nbformat_minor": 5
}
